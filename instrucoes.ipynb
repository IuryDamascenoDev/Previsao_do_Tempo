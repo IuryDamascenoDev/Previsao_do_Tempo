{
 "cells": [
  {
   "cell_type": "markdown",
   "id": "047d81cf",
   "metadata": {
    "id": "580dd39c-f066-4c32-af47-648eb71f5918",
    "tags": []
   },
   "source": [
    "# Desafio: Consumo de Dados para Previsão do Tempo das Cidades do Vale do Paraíba.\n",
    "\n",
    "## Objetivo\n",
    "\n",
    "Avaliar conhecimentos nas linguagens Python e SQL e na engine de processamento Apache Spark.\n",
    "\n",
    "## Descrição\n",
    "\n",
    "Neste desafio, você desenvolverá um notebook que será responsável por extrair dados de previsão do tempo das cidades do Vale do Paraíba, região onde se localiza a Dataside. Para consultar todas as cidades dessa região, utilizaremos a API do IBGE. No caso, basta realizar uma requisição HTTP com o método GET, utilizando a URL abaixo:\n",
    "\n",
    "```\n",
    "https://servicodados.ibge.gov.br/api/v1/localidades/mesorregioes/3513/municipios\n",
    "```\n",
    "\n",
    "Com esses dados, gerar um data frame e a partir dele uma temp view. Ex: \"cities\"\n",
    "\n",
    "Utilizando os nomes das cidades, deverão ser consultados os dados de previsão de tempo para cada cidade. Para realizar essa consulta, poderá ser utilizada qualquer uma das APIs informadas no link abaixo.\n",
    "\n",
    "[Public APIs - Wather](https://github.com/public-apis/public-apis#weather)\n",
    "\n",
    "Obs.: Para algumas, pode ser necessário cadastrar-se para acessar sua API Key. Mas nenhuma delas deve precisar cadastrar cartão de crédito ou adicionar qualquer valor monetário para utilizar. Caso alguma solicite, basta optar por outra.\n",
    "\n",
    "Com os dados consultados, gerar um data frame e partir dele outra temp view. Ex: \"forecasts\"\n",
    "\n",
    "Com as temp views geradas, utilizar Spark SQL para criar queries e gerar data frames das seguintes tabelas:\n",
    "\n",
    "- Tabela 1: dados de previsão do tempo para os próximos cinco dias, para cada data e cidade consultadas. As colunas dessa tabela serão:\n",
    "    - Cidade\n",
    "    - CodigoDaCidade\n",
    "    - Data\n",
    "    - Regiao\n",
    "    - Pais\n",
    "    - Latitude\n",
    "    - Longigute\n",
    "    - TemperaturaMaxima\n",
    "    - TemperaturaMinima\n",
    "    - TemperaturaMedia\n",
    "    - VaiChover\n",
    "    - ChanceDeChuva\n",
    "    - CondicaoDoTempo\n",
    "    - NascerDoSol\n",
    "    - PorDoSol\n",
    "    - VelocidadeMaximaDoVento\n",
    "    \n",
    "    Obs.: Os valores da coluna \"VaiChover\" deverá ser \"Sim\" ou \"Não\". E a coluna \"CodigoDaCidade\" é o ID retornado junto com os nomes da cidades na API do IBGE.\n",
    "    Obs.: Dependendo da API utilizada, algumas colunas podem não existir e ficarão em branco. Você deve optar por uma API que traga o maior número de informações possível.\n",
    "\n",
    "- Tabela 2: quantidade de dias com chuva e sem chuva para os dias consultados, para cada data consultada. Colunas:\n",
    "    - Cidade\n",
    "    - QtdDiasVaiChover\n",
    "    - QtdDiasNaoVaiChover\n",
    "    - TotalDiasMapeados\n",
    "\n",
    "Essas tabelas deverão ser exportadas em formado CSV e entregue no final do desafio.\n",
    "\n",
    "## To Do\n",
    "\n",
    "[ ] - Consultar municípios do Vale do Paraíba, gerar um data frame e criar uma temp view com esses dados.  \n",
    "[ ] - Consultar dados do tempo para cada município, gerar um data frame e criar uma outra temp view.  \n",
    "[ ] - Utilizar Spark SQL para gerar os data frames das Tabelas 1 e 2.  \n",
    "[ ] - Exportar os data frames para CSV.  "
   ]
  }
 ],
 "metadata": {
  "colab": {
   "provenance": []
  },
  "kernelspec": {
   "display_name": "Python 3 (ipykernel)",
   "language": "python",
   "name": "python3"
  },
  "language_info": {
   "codemirror_mode": {
    "name": "ipython",
    "version": 3
   },
   "file_extension": ".py",
   "mimetype": "text/x-python",
   "name": "python",
   "nbconvert_exporter": "python",
   "pygments_lexer": "ipython3",
   "version": "3.9.2"
  }
 },
 "nbformat": 4,
 "nbformat_minor": 5
}
