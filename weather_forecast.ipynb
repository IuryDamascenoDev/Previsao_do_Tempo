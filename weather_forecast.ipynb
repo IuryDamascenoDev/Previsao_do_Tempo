{
 "cells": [
  {
   "cell_type": "code",
   "execution_count": 1,
   "id": "80fdefdb",
   "metadata": {},
   "outputs": [
    {
     "name": "stderr",
     "output_type": "stream",
     "text": [
      "22/10/24 11:11:42 WARN NativeCodeLoader: Unable to load native-hadoop library for your platform... using builtin-java classes where applicable\n",
      "Using Spark's default log4j profile: org/apache/spark/log4j-defaults.properties\n",
      "Setting default log level to \"WARN\".\n",
      "To adjust logging level use sc.setLogLevel(newLevel). For SparkR, use setLogLevel(newLevel).\n"
     ]
    }
   ],
   "source": [
    "import requests as r\n",
    "import json\n",
    "\n",
    "from pyspark.sql import SparkSession\n",
    "from pyspark.sql.types import StructType, StructField, StringType, LongType\n",
    "from pyspark.sql.functions import col, lit, when, count\n",
    "from pyspark import SparkContext\n",
    "\n",
    "spark = SparkSession.builder \\\n",
    "      .master(\"spark://spark-master:7077\") \\\n",
    "      .config(\"spark.executor.memory\", \"512m\") \\\n",
    "      .appName(\"Previsão do tempo\") \\\n",
    "      .getOrCreate()\n",
    "\n",
    "sc = SparkContext.getOrCreate(spark)"
   ]
  },
  {
   "cell_type": "code",
   "execution_count": 2,
   "id": "cbfbbf12",
   "metadata": {},
   "outputs": [
    {
     "name": "stderr",
     "output_type": "stream",
     "text": [
      "                                                                                \r"
     ]
    }
   ],
   "source": [
    "# Buscar cidades do Vale do Paraíba\n",
    "# TODO\n",
    "\n",
    "cities_url = \"https://servicodados.ibge.gov.br/api/v1/localidades/mesorregioes/3513/municipios\"\n",
    "\n",
    "cities_req = r.get(cities_url)\n",
    "cities_json = cities_req.text\n",
    "\n",
    "cities_temp = spark.read.json(sc.parallelize([cities_json]))\n",
    "cities_temp = cities_temp.withColumnRenamed(\"nome\", \"Cidade\")\n",
    "\n",
    "# Extraindo latitude e longitude para consulta de api\n",
    "# utilizando dataset disponível em\n",
    "# https://github.com/kelvins/Municipios-Brasileiros/tree/main/csv\n",
    "# Coordenadas verificadas co google maps\n",
    "\n",
    "lat_lon_temp = spark.read.csv(\"./municipios.csv\", header=True)\n"
   ]
  },
  {
   "cell_type": "code",
   "execution_count": 3,
   "id": "a3d75ebb",
   "metadata": {},
   "outputs": [
    {
     "name": "stderr",
     "output_type": "stream",
     "text": [
      "[Stage 4:>                                                          (0 + 1) / 1]\r"
     ]
    },
    {
     "name": "stdout",
     "output_type": "stream",
     "text": [
      "+--------------+------------------+--------------------+--------+---------+\n",
      "|CodigoDaCidade|            Cidade|              Regiao|Latitude|Longitude|\n",
      "+--------------+------------------+--------------------+--------+---------+\n",
      "|       3502507|         Aparecida|       Guaratinguetá|-22.8495| -45.2325|\n",
      "|       3503158|            Arapeí|             Bananal|-22.6717| -44.4441|\n",
      "|       3503505|            Areias|             Bananal|-22.5786| -44.6992|\n",
      "|       3504909|           Bananal|             Bananal|-22.6819| -44.3281|\n",
      "|       3508504|          Caçapava| São José dos Campos|-23.0992| -45.7076|\n",
      "|       3508603|Cachoeira Paulista|       Guaratinguetá|-22.6665| -45.0154|\n",
      "|       3509700|  Campos do Jordão|    Campos do Jordão|-22.7296| -45.5833|\n",
      "|       3509957|             Canas|       Guaratinguetá|-22.7003| -45.0521|\n",
      "|       3510500|     Caraguatatuba|       Caraguatatuba|-23.6125| -45.4125|\n",
      "|       3513405|          Cruzeiro|       Guaratinguetá|-22.5728|  -44.969|\n",
      "|       3513603|             Cunha|Paraibuna/Paraitinga|-23.0731| -44.9576|\n",
      "|       3518404|     Guaratinguetá|       Guaratinguetá|-22.8075| -45.1938|\n",
      "|       3520202|           Igaratá| São José dos Campos|-23.2037|  -46.157|\n",
      "|       3520400|          Ilhabela|       Caraguatatuba|-23.7785| -45.3552|\n",
      "|       3524402|           Jacareí| São José dos Campos|-23.2983| -45.9658|\n",
      "|       3524907|          Jambeiro|Paraibuna/Paraitinga|-23.2522| -45.6942|\n",
      "|       3526308|          Lagoinha|Paraibuna/Paraitinga|-23.0846| -45.1944|\n",
      "|       3526605|         Lavrinhas|       Guaratinguetá|  -22.57| -44.9024|\n",
      "|       3527207|            Lorena|       Guaratinguetá|-22.7334| -45.1197|\n",
      "|       3531704|   Monteiro Lobato|    Campos do Jordão|-22.9544| -45.8407|\n",
      "+--------------+------------------+--------------------+--------+---------+\n",
      "only showing top 20 rows\n",
      "\n"
     ]
    },
    {
     "name": "stderr",
     "output_type": "stream",
     "text": [
      "                                                                                \r"
     ]
    }
   ],
   "source": [
    "# Criar data frame com as cidades\n",
    "# TODO\n",
    "\n",
    "cities_join = cities_temp.join(lat_lon_temp,cities_temp[\"id\"] == lat_lon_temp[\"codigo_ibge\"],\"inner\")\n",
    "\n",
    "\n",
    "# Criar view com as cidades\n",
    "# TODO\n",
    "\n",
    "cities = cities_join.select(col(\"id\").alias(\"CodigoDaCidade\"), \"Cidade\", col(\"microrregiao.nome\").alias(\"Regiao\"), col(\"latitude\").alias(\"Latitude\"), col(\"longitude\").alias(\"Longitude\"))\n",
    "cities.show()"
   ]
  },
  {
   "cell_type": "code",
   "execution_count": 4,
   "id": "087fd7c0",
   "metadata": {},
   "outputs": [],
   "source": [
    "# Buscar previsão do tempo para as cidades\n",
    "# TODO\n",
    "\n",
    "# Criando funções para chamar api para cada cidade\n",
    "# e para limpar as strings\n",
    "\n",
    "\n",
    "def clean_json(json: str):\n",
    "\n",
    "    json = json.replace(\"\\n\", \"\")\n",
    "    json = json.replace(\"\\t\", \"\")\n",
    "\n",
    "\n",
    "    if json[14:24] == 'civillight':\n",
    "        substring = json[0:66]\n",
    "    else:\n",
    "        substring = json[0:61]\n",
    "\n",
    "    json = json.replace(substring, \"\")\n",
    "    json = json[0:-2] +','\n",
    "\n",
    "    return  json\n",
    "\n",
    "\n",
    "# Forecast uct: u, ct >> umidade(chance de chuva), condição do tempo\n",
    "\n",
    "\n",
    "def search_forecast_uct(lat: str, lon: str):\n",
    "\n",
    "    forecast_url = f\"http://www.7timer.info/bin/api.pl?lon={lon}&lat={lat}&product=civil&output=json\"\n",
    "\n",
    "    forecast_req = r.get(forecast_url)\n",
    "    return clean_json(forecast_req.text)\n",
    "\n",
    "\n",
    "# Forecast tcv: t, c, v>> temperatura, clima, vento\n",
    "\n",
    "\n",
    "def search_forecast_tcv(lat: str, lon: str):\n",
    "\n",
    "    forecast_url = f\"http://www.7timer.info/bin/api.pl?lon={lon}&lat={lat}&product=civillight&output=json\"\n",
    "\n",
    "    forecast_req = r.get(forecast_url)\n",
    "    return clean_json(forecast_req.text)\n",
    "\n",
    "\n",
    "def mult_uct_json(lat: list, lon: list):\n",
    "\n",
    "    temp_json = \"\"\n",
    "\n",
    "    for i, (lat_val, lon_val) in enumerate(zip(lat, lon)):\n",
    "\n",
    "        json_string = search_forecast_uct(lat_val, lon_val)\n",
    "        \n",
    "        temp_json = temp_json + json_string\n",
    "\n",
    "    temp_json = temp_json[0:-1]\n",
    "\n",
    "    definitive_json = \"[\" + temp_json + \"]\"\n",
    "    return definitive_json\n",
    "\n",
    "\n",
    "def mult_tcv_json(lat: list, lon: list):\n",
    "\n",
    "    temp_json = \"\"\n",
    "\n",
    "    for i, (lat_val, lon_val) in enumerate(zip(lat, lon)):\n",
    "\n",
    "        json_string = search_forecast_tcv(lat_val, lon_val)\n",
    "\n",
    "        temp_json = temp_json + json_string\n",
    "    \n",
    "    temp_json = temp_json[0:-1]\n",
    "\n",
    "    definitive_json = \"[\" + temp_json + \"]\"\n",
    "    return definitive_json\n",
    "\n"
   ]
  },
  {
   "cell_type": "code",
   "execution_count": 5,
   "id": "bc175e0e",
   "metadata": {},
   "outputs": [
    {
     "name": "stderr",
     "output_type": "stream",
     "text": [
      "                                                                                \r"
     ]
    }
   ],
   "source": [
    "# Criar data frame com as previsões\n",
    "# TODO\n",
    "\n",
    "latitudes = cities.select(\"Latitude\").rdd.flatMap(lambda x: x).collect()\n",
    "longitudes = cities.select(\"Longitude\").rdd.flatMap(lambda x: x).collect()\n",
    "\n",
    "tcv_json = mult_tcv_json(latitudes, longitudes)\n",
    "tcv_forecast = spark.read.json(sc.parallelize([tcv_json]))\n",
    "\n",
    "uct_json = mult_uct_json(latitudes, longitudes)\n",
    "uct_forecast = spark.read.json(sc.parallelize([uct_json]))\n"
   ]
  },
  {
   "cell_type": "code",
   "execution_count": 6,
   "id": "3e777e0c",
   "metadata": {},
   "outputs": [],
   "source": [
    "# O serviço da api que disponibilizará os dados uct\n",
    "# entrega 8 dias(contando com o atual) de previsões\n",
    "# enquanto os dados tcv tem apenas 7 dias\n",
    "\n",
    "# Cada dia dos dados uct é dividido em 8 partes(timepoints)\n",
    "# Criando função de timepoints para separar\n",
    "# 7 dias contando com o atual do dataframe uct\n",
    "\n",
    "def create_timepoints(time: int):\n",
    "    \n",
    "    # Parâmetro time representa a hora do dia em que será\n",
    "    # disṕnibilizada a previsão\n",
    "    \n",
    "    values = []\n",
    "    \n",
    "    timepoint = time\n",
    "\n",
    "    # Loop pega a hora inicial e pula de 24 em 24\n",
    "    # para extrair os timepoints que representam o mesmo horário\n",
    "    # em cada dia seguinte\n",
    "\n",
    "    for i in range(7):\n",
    "        values.append(timepoint)\n",
    "        \n",
    "        timepoint += 24\n",
    "    \n",
    "    return values\n",
    "\n"
   ]
  },
  {
   "cell_type": "code",
   "execution_count": 7,
   "id": "575f528a",
   "metadata": {},
   "outputs": [],
   "source": [
    "# Selecionando as previsões de 9 horas da manhã\n",
    "# apenas para parametro\n",
    "# de acordo com os timepoints, 00h(meia-noite) tem valor 24\n",
    "\n",
    "morning_timepoints = create_timepoints(9)\n",
    "\n",
    "uct_forecast = uct_forecast.select(\"*\").where(uct_forecast.timepoint.isin(morning_timepoints))"
   ]
  },
  {
   "cell_type": "code",
   "execution_count": 8,
   "id": "205be8ea",
   "metadata": {},
   "outputs": [
    {
     "name": "stdout",
     "output_type": "stream",
     "text": [
      "+--------+--------+-------+-----------+\n",
      "|    date|  temp2m|weather|wind10m_max|\n",
      "+--------+--------+-------+-----------+\n",
      "|20221024|[24, 15]|oshower|          2|\n",
      "|20221025|[27, 15]|ishower|          2|\n",
      "|20221026|[29, 14]|ishower|          3|\n",
      "|20221027|[33, 15]|  clear|          2|\n",
      "|20221028|[27, 17]|   rain|          3|\n",
      "|20221029|[25, 16]| cloudy|          2|\n",
      "|20221030|[30, 16]|  clear|          2|\n",
      "|20221024|[21, 13]|     ts|          2|\n",
      "|20221025|[17, 12]|   rain|          2|\n",
      "|20221026|[24, 12]| cloudy|          2|\n",
      "|20221027|[28, 13]| cloudy|          2|\n",
      "|20221028|[22, 16]|   rain|          2|\n",
      "|20221029|[22, 13]|   rain|          2|\n",
      "|20221030|[27, 14]| cloudy|          2|\n",
      "|20221024|[29, 15]|     ts|          3|\n",
      "|20221025|[26, 16]|   rain|          2|\n",
      "|20221026|[29, 14]|  clear|          3|\n",
      "|20221027|[33, 15]|  clear|          2|\n",
      "|20221028|[26, 17]|   rain|          2|\n",
      "|20221029|[28, 16]|   rain|          2|\n",
      "+--------+--------+-------+-----------+\n",
      "only showing top 20 rows\n",
      "\n",
      "+----------+------------+-----------+---------+----+------+---------+------------+-------+\n",
      "|cloudcover|lifted_index|prec_amount|prec_type|rh2m|temp2m|timepoint|     weather|wind10m|\n",
      "+----------+------------+-----------+---------+----+------+---------+------------+-------+\n",
      "|         1|          -1|          1|     none| 95%|    15|        9|    humidday|[NE, 2]|\n",
      "|         3|          -1|          3|     rain| 91%|    15|       33|  ishowerday| [N, 2]|\n",
      "|         5|          -1|          3|     rain| 92%|    14|       57|  ishowerday|[NE, 2]|\n",
      "|         1|           2|          3|     none| 86%|    16|       81|    clearday|[NE, 2]|\n",
      "|         9|          -1|          3|     rain| 88%|    18|      105|lightrainday| [W, 2]|\n",
      "|         9|           2|          5|     none| 93%|    16|      129|   cloudyday| [E, 2]|\n",
      "|         1|           2|          5|     none| 93%|    16|      153|    humidday|[NE, 2]|\n",
      "|         8|          -1|          1|     none| 97%|    14|        9|   cloudyday| [N, 2]|\n",
      "|         9|          -1|          4|     rain| 95%|    12|       33|     rainday| [S, 1]|\n",
      "|         9|           2|          4|     rain| 96%|    12|       57|     rainday|[NE, 2]|\n",
      "|         9|           2|          4|     none| 93%|    13|       81|   cloudyday| [N, 2]|\n",
      "|         9|          -1|          4|     rain| 81%|    16|      105|     rainday|[SW, 2]|\n",
      "|         9|           2|          5|     none| 96%|    14|      129|   cloudyday| [N, 2]|\n",
      "|         9|           2|          5|     none| 90%|    15|      153|   cloudyday| [N, 2]|\n",
      "|         4|          -1|          1|     none| 98%|    15|        9|    humidday|[NE, 2]|\n",
      "|         8|          -1|          4|     rain| 97%|    16|       33|     rainday|[NE, 2]|\n",
      "|         7|           2|          4|     rain| 97%|    14|       57|     rainday|[NE, 2]|\n",
      "|         1|           2|          4|     none| 95%|    16|       81|    humidday|[NE, 2]|\n",
      "|         9|          -1|          4|     rain| 80%|    17|      105|     rainday|[NW, 2]|\n",
      "|         9|           2|          5|     none| 97%|    16|      129|   cloudyday|[NE, 2]|\n",
      "+----------+------------+-----------+---------+----+------+---------+------------+-------+\n",
      "only showing top 20 rows\n",
      "\n"
     ]
    }
   ],
   "source": [
    "# Criar view com as previsões\n",
    "# TODO\n",
    "\n",
    "tcv_forecast.show()\n",
    "\n",
    "uct_forecast.show()"
   ]
  },
  {
   "cell_type": "code",
   "execution_count": 9,
   "id": "414454d6",
   "metadata": {},
   "outputs": [
    {
     "name": "stderr",
     "output_type": "stream",
     "text": [
      "                                                                                \r"
     ]
    }
   ],
   "source": [
    "# Extraindo colunas do dataframe cities\n",
    "\n",
    "codigos = cities.select(\"CodigoDaCidade\").rdd.flatMap(lambda x: x).collect()\n",
    "\n",
    "cidades = cities.select(\"Cidade\").rdd.flatMap(lambda x: x).collect()\n",
    "\n",
    "regioes = cities.select(\"Regiao\").rdd.flatMap(lambda x: x).collect()\n"
   ]
  },
  {
   "cell_type": "code",
   "execution_count": 10,
   "id": "741cb597",
   "metadata": {},
   "outputs": [],
   "source": [
    "# Criando função para replicar cada dado 7 vezes\n",
    "# já que para cada registro no dataframe cities\n",
    "# há 7 nos dataframes uct/tcv\n",
    "\n",
    "\n",
    "def mult_cities_values(values: list):\n",
    "    \n",
    "    mult_values = []\n",
    "    \n",
    "    for item in values:\n",
    "\n",
    "        for i in range(7):\n",
    "            mult_values.append(item)\n",
    "    \n",
    "    return mult_values"
   ]
  },
  {
   "cell_type": "code",
   "execution_count": 11,
   "id": "a757d3f3",
   "metadata": {},
   "outputs": [],
   "source": [
    "# Replicando valores do dataframe cities\n",
    "\n",
    "codigos_mult = mult_cities_values(codigos)\n",
    "\n",
    "cidades_mult = mult_cities_values(cidades)\n",
    "\n",
    "regioes_mult = mult_cities_values(regioes)\n",
    "\n",
    "latitudes_mult = mult_cities_values(latitudes)\n",
    "\n",
    "longitudes_mult = mult_cities_values(longitudes)\n"
   ]
  },
  {
   "cell_type": "code",
   "execution_count": 12,
   "id": "cb946ab4",
   "metadata": {},
   "outputs": [],
   "source": [
    "# Extraindo colunas do dataframe tcv\n",
    "\n",
    "data = tcv_forecast.select(\"date\").rdd.flatMap(lambda x: x).collect()\n",
    "\n",
    "temps_max = tcv_forecast.select(\"temp2m.max\").rdd.flatMap(lambda x: x).collect()\n",
    "temps_min = tcv_forecast.select(\"temp2m.min\").rdd.flatMap(lambda x: x).collect()\n",
    "\n",
    "veloc_max_vento = tcv_forecast.select(\"wind10m_max\").rdd.flatMap(lambda x: x).collect()"
   ]
  },
  {
   "cell_type": "code",
   "execution_count": 13,
   "id": "ff44fa58",
   "metadata": {},
   "outputs": [],
   "source": [
    "# Extraindo colunas do dataframe uct\n",
    "\n",
    "umidade_mult = uct_forecast.select(\"rh2m\").rdd.flatMap(lambda x: x).collect()\n",
    "\n",
    "condicao_tempo = tcv_forecast.select(\"weather\").rdd.flatMap(lambda x: x).collect()"
   ]
  },
  {
   "cell_type": "code",
   "execution_count": 14,
   "id": "b6c3cccc",
   "metadata": {},
   "outputs": [],
   "source": [
    "# 273 loop criar list rows e append a outra list\n",
    "\n",
    "rows = []\n",
    "\n",
    "for i, (codigo, cidade, regiao, latitude, longitude,\n",
    "        dia, temp_max, temp_min, veloc_vento,\n",
    "        umidade, condicao) in \\\n",
    "        enumerate(zip(codigos_mult, cidades_mult, regioes_mult,\n",
    "                      latitudes_mult, longitudes_mult, data,\n",
    "                      temps_max, temps_min, veloc_max_vento, umidade_mult, condicao_tempo)):\n",
    "\n",
    "    row = []\n",
    "    \n",
    "    row.append(codigo)\n",
    "    row.append(cidade)\n",
    "    row.append(regiao)\n",
    "    row.append(latitude)\n",
    "    row.append(longitude)\n",
    "    row.append(dia)\n",
    "    row.append(temp_max)\n",
    "    row.append(temp_min)\n",
    "    row.append(veloc_vento)\n",
    "    row.append(umidade)\n",
    "    row.append(condicao)\n",
    "\n",
    "    rows.append(row)\n"
   ]
  },
  {
   "cell_type": "code",
   "execution_count": 15,
   "id": "a18758fa",
   "metadata": {},
   "outputs": [],
   "source": [
    "# Criar DF da Tabela 1\n",
    "# TODO\n",
    "\n",
    "table1_schema = StructType([       \n",
    "    StructField('CodigoDaCidade', LongType(), True),\n",
    "    StructField('Cidade', StringType(), True),\n",
    "    StructField('Regiao', StringType(), True),\n",
    "    StructField('Latitude', StringType(), True),\n",
    "    StructField('Longitude', StringType(), True),\n",
    "    StructField('Data', LongType(), True),\n",
    "    StructField('TemperaturaMaxima', LongType(), True),\n",
    "    StructField('TemperaturaMinima', LongType(), True),\n",
    "    StructField('VelocidadeMaximaDoVento', LongType(), True),\n",
    "    StructField('ChanceDeChuva', StringType(), True),\n",
    "    StructField('CondicaoDoTempo', StringType(), True)\n",
    "])\n",
    "\n",
    "table1 = spark.createDataFrame(data=rows, schema=table1_schema)"
   ]
  },
  {
   "cell_type": "code",
   "execution_count": 16,
   "id": "fe2df78d",
   "metadata": {},
   "outputs": [],
   "source": [
    "# Criando coluna Pais e Vai chover\n",
    "\n",
    "table1 = table1.withColumn(\"VaiChover\", when((table1.CondicaoDoTempo.contains(\"rain\")), lit(\"Sim\")).otherwise(lit(\"Nao\")))\n",
    "\n",
    "table1 = table1.withColumn(\"Pais\", lit(\"Brasil\"))\n"
   ]
  },
  {
   "cell_type": "code",
   "execution_count": 17,
   "id": "3db0c0b1",
   "metadata": {},
   "outputs": [
    {
     "name": "stdout",
     "output_type": "stream",
     "text": [
      "+--------------+---------+-------------+--------+---------+--------+-----------------+-----------------+-----------------------+-------------+---------------+---------+------+\n",
      "|CodigoDaCidade|   Cidade|       Regiao|Latitude|Longitude|    Data|TemperaturaMaxima|TemperaturaMinima|VelocidadeMaximaDoVento|ChanceDeChuva|CondicaoDoTempo|VaiChover|  Pais|\n",
      "+--------------+---------+-------------+--------+---------+--------+-----------------+-----------------+-----------------------+-------------+---------------+---------+------+\n",
      "|       3502507|Aparecida|Guaratinguetá|-22.8495| -45.2325|20221024|               24|               15|                      2|          95%|        oshower|      Nao|Brasil|\n",
      "|       3502507|Aparecida|Guaratinguetá|-22.8495| -45.2325|20221025|               27|               15|                      2|          91%|        ishower|      Nao|Brasil|\n",
      "|       3502507|Aparecida|Guaratinguetá|-22.8495| -45.2325|20221026|               29|               14|                      3|          92%|        ishower|      Nao|Brasil|\n",
      "|       3502507|Aparecida|Guaratinguetá|-22.8495| -45.2325|20221027|               33|               15|                      2|          86%|          clear|      Nao|Brasil|\n",
      "|       3502507|Aparecida|Guaratinguetá|-22.8495| -45.2325|20221028|               27|               17|                      3|          88%|           rain|      Sim|Brasil|\n",
      "|       3502507|Aparecida|Guaratinguetá|-22.8495| -45.2325|20221029|               25|               16|                      2|          93%|         cloudy|      Nao|Brasil|\n",
      "|       3502507|Aparecida|Guaratinguetá|-22.8495| -45.2325|20221030|               30|               16|                      2|          93%|          clear|      Nao|Brasil|\n",
      "|       3503158|   Arapeí|      Bananal|-22.6717| -44.4441|20221024|               21|               13|                      2|          97%|             ts|      Nao|Brasil|\n",
      "|       3503158|   Arapeí|      Bananal|-22.6717| -44.4441|20221025|               17|               12|                      2|          95%|           rain|      Sim|Brasil|\n",
      "|       3503158|   Arapeí|      Bananal|-22.6717| -44.4441|20221026|               24|               12|                      2|          96%|         cloudy|      Nao|Brasil|\n",
      "|       3503158|   Arapeí|      Bananal|-22.6717| -44.4441|20221027|               28|               13|                      2|          93%|         cloudy|      Nao|Brasil|\n",
      "|       3503158|   Arapeí|      Bananal|-22.6717| -44.4441|20221028|               22|               16|                      2|          81%|           rain|      Sim|Brasil|\n",
      "|       3503158|   Arapeí|      Bananal|-22.6717| -44.4441|20221029|               22|               13|                      2|          96%|           rain|      Sim|Brasil|\n",
      "|       3503158|   Arapeí|      Bananal|-22.6717| -44.4441|20221030|               27|               14|                      2|          90%|         cloudy|      Nao|Brasil|\n",
      "|       3503505|   Areias|      Bananal|-22.5786| -44.6992|20221024|               29|               15|                      3|          98%|             ts|      Nao|Brasil|\n",
      "|       3503505|   Areias|      Bananal|-22.5786| -44.6992|20221025|               26|               16|                      2|          97%|           rain|      Sim|Brasil|\n",
      "|       3503505|   Areias|      Bananal|-22.5786| -44.6992|20221026|               29|               14|                      3|          97%|          clear|      Nao|Brasil|\n",
      "|       3503505|   Areias|      Bananal|-22.5786| -44.6992|20221027|               33|               15|                      2|          95%|          clear|      Nao|Brasil|\n",
      "|       3503505|   Areias|      Bananal|-22.5786| -44.6992|20221028|               26|               17|                      2|          80%|           rain|      Sim|Brasil|\n",
      "|       3503505|   Areias|      Bananal|-22.5786| -44.6992|20221029|               28|               16|                      2|          97%|           rain|      Sim|Brasil|\n",
      "+--------------+---------+-------------+--------+---------+--------+-----------------+-----------------+-----------------------+-------------+---------------+---------+------+\n",
      "only showing top 20 rows\n",
      "\n"
     ]
    }
   ],
   "source": [
    "# VIEW TABELA 1\n",
    "\n",
    "table1.sort(\"Cidade\", \"Data\")\n",
    "\n",
    "table1.show()"
   ]
  },
  {
   "cell_type": "code",
   "execution_count": 18,
   "id": "0b9611c2",
   "metadata": {},
   "outputs": [
    {
     "name": "stderr",
     "output_type": "stream",
     "text": [
      "[Stage 29:================================================>     (181 + 2) / 200]\r"
     ]
    },
    {
     "name": "stdout",
     "output_type": "stream",
     "text": [
      "+------------------+---------+---------------------+-----------------+\n",
      "|            Cidade|VaiChover|QtdDiasVaiChoverOuNao|TotalDiasMapeados|\n",
      "+------------------+---------+---------------------+-----------------+\n",
      "|         Aparecida|      Sim|                    1|                7|\n",
      "|         Aparecida|      Nao|                    6|                7|\n",
      "|            Arapeí|      Sim|                    3|                7|\n",
      "|            Arapeí|      Nao|                    4|                7|\n",
      "|            Areias|      Sim|                    3|                7|\n",
      "|            Areias|      Nao|                    4|                7|\n",
      "|           Bananal|      Nao|                    4|                7|\n",
      "|           Bananal|      Sim|                    3|                7|\n",
      "|Cachoeira Paulista|      Sim|                    3|                7|\n",
      "|Cachoeira Paulista|      Nao|                    4|                7|\n",
      "|  Campos do Jordão|      Sim|                    4|                7|\n",
      "|  Campos do Jordão|      Nao|                    3|                7|\n",
      "|             Canas|      Sim|                    3|                7|\n",
      "|             Canas|      Nao|                    4|                7|\n",
      "|     Caraguatatuba|      Sim|                    5|                7|\n",
      "|     Caraguatatuba|      Nao|                    2|                7|\n",
      "|          Caçapava|      Nao|                    6|                7|\n",
      "|          Caçapava|      Sim|                    1|                7|\n",
      "|          Cruzeiro|      Sim|                    3|                7|\n",
      "|          Cruzeiro|      Nao|                    4|                7|\n",
      "+------------------+---------+---------------------+-----------------+\n",
      "only showing top 20 rows\n",
      "\n"
     ]
    },
    {
     "name": "stderr",
     "output_type": "stream",
     "text": [
      "                                                                                \r"
     ]
    }
   ],
   "source": [
    "# Criar DF da Tabela 2\n",
    "# TODO\n",
    "\n",
    "\n",
    "table2 = table1.select(\"Cidade\", \"VaiChover\").sort(\"Cidade\")\n",
    "\n",
    "table2 = table2.groupBy(\"Cidade\", \"VaiChover\").count().sort(\"Cidade\")\n",
    "table2 = table2.withColumnRenamed(\"count\", \"QtdDiasVaiChoverOuNao\")\n",
    "\n",
    "table2 = table2.withColumn(\"TotalDiasMapeados\", lit(7))\n",
    "\n",
    "table2.show()\n"
   ]
  },
  {
   "cell_type": "code",
   "execution_count": 19,
   "id": "3c0b83eb",
   "metadata": {},
   "outputs": [
    {
     "name": "stderr",
     "output_type": "stream",
     "text": [
      "                                                                                \r"
     ]
    }
   ],
   "source": [
    "# Exportar CSVs\n",
    "# TODO\n",
    "\n",
    "table1.repartition(1).write.option(\"header\",True) \\\n",
    " .csv(\"./tabela_1.csv\")\n",
    "\n",
    "table2.repartition(1).write.option(\"header\",True) \\\n",
    " .csv(\"./tabela_2.csv\")\n"
   ]
  }
 ],
 "metadata": {
  "kernelspec": {
   "display_name": "Python 3 (ipykernel)",
   "language": "python",
   "name": "python3"
  },
  "language_info": {
   "codemirror_mode": {
    "name": "ipython",
    "version": 3
   },
   "file_extension": ".py",
   "mimetype": "text/x-python",
   "name": "python",
   "nbconvert_exporter": "python",
   "pygments_lexer": "ipython3",
   "version": "3.9.2"
  }
 },
 "nbformat": 4,
 "nbformat_minor": 5
}
